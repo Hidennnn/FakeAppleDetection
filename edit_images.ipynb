{
 "cells": [
  {
   "cell_type": "code",
   "execution_count": null,
   "metadata": {
    "collapsed": true,
    "pycharm": {
     "name": "#%%\n"
    }
   },
   "outputs": [],
   "source": [
    "import os\n",
    "import cv2\n",
    "import numpy as np\n",
    "from skimage.util import random_noise"
   ]
  },
  {
   "cell_type": "code",
   "execution_count": null,
   "outputs": [],
   "source": [
    "input_folder = r\"C:\\Users\\PC\\OneDrive\\Pulpit\\baza danych\\owoce\\fake photos - bluewillow\\fake photos - bluewillow\"\n",
    "\n",
    "output_folder_noise1 = r\"C:\\Users\\PC\\OneDrive\\Pulpit\\baza danych\\owoce\\fake photos - bluewillow\\images_with_noise1\"\n",
    "output_folder_noise2 = r\"C:\\Users\\PC\\OneDrive\\Pulpit\\baza danych\\owoce\\fake photos - bluewillow\\images_with_noise2\"\n",
    "output_folder_grayscale = r\"C:\\Users\\PC\\OneDrive\\Pulpit\\baza danych\\owoce\\fake photos - bluewillow\\grayscale_images\"\n",
    "output_folder_colorspaces = r\"C:\\Users\\PC\\OneDrive\\Pulpit\\baza danych\\owoce\\fake photos - bluewillow\\colorspace_images\"\n",
    "os.makedirs(output_folder_noise1, exist_ok=True)\n",
    "os.makedirs(output_folder_noise2, exist_ok=True)\n",
    "os.makedirs(output_folder_grayscale, exist_ok=True)\n",
    "os.makedirs(output_folder_colorspaces, exist_ok=True)\n",
    "\n",
    "\n",
    "for filename in os.listdir(input_folder):\n",
    "    if filename.endswith(\".jpg\") or filename.endswith(\".png\"):\n",
    "        image_path = os.path.join(input_folder, filename)\n",
    "        image = cv2.imread(image_path)\n",
    "        image_resized = cv2.resize(image, (256, 256))\n",
    "\n",
    "        # ----------------------- noise ------------------------\n",
    "        image_noise1 = random_noise(image_resized, mode=\"gaussian\", var=0.01)\n",
    "        image_noise1 = np.array(255 * image_noise1, dtype=np.uint8)\n",
    "        image_noise2 = random_noise(image_resized, mode=\"gaussian\", var=0.1)\n",
    "        image_noise2 = np.array(255 * image_noise2, dtype=np.uint8)\n",
    "        cv2.imwrite(os.path.join(output_folder_noise1, filename), image_noise1)\n",
    "        cv2.imwrite(os.path.join(output_folder_noise2, filename), image_noise2)\n",
    "\n",
    "        # -------------------- grayscale --------------------\n",
    "        image_gray = cv2.cvtColor(image_resized, cv2.COLOR_BGR2GRAY)\n",
    "        cv2.imwrite(os.path.join(output_folder_grayscale, filename), image_gray)\n",
    "\n",
    "        # --------------------- color spaces ----------------------\n",
    "        image_hsv = cv2.cvtColor(image_resized, cv2.COLOR_BGR2HSV)\n",
    "        image_lab = cv2.cvtColor(image_resized, cv2.COLOR_BGR2LAB)\n",
    "        image_yuv = cv2.cvtColor(image_resized, cv2.COLOR_BGR2YUV)\n",
    "        cv2.imwrite(os.path.join(output_folder_colorspaces, \"hsv_\" + filename), image_hsv)\n",
    "        cv2.imwrite(os.path.join(output_folder_colorspaces, \"lab_\" + filename), image_lab)\n",
    "        cv2.imwrite(os.path.join(output_folder_colorspaces, \"yuv_\" + filename), image_yuv)\n",
    "\n",
    "print(\"done\")"
   ],
   "metadata": {
    "collapsed": false,
    "pycharm": {
     "name": "#%%\n"
    }
   }
  }
 ],
 "metadata": {
  "kernelspec": {
   "display_name": "Python 3",
   "language": "python",
   "name": "python3"
  },
  "language_info": {
   "codemirror_mode": {
    "name": "ipython",
    "version": 2
   },
   "file_extension": ".py",
   "mimetype": "text/x-python",
   "name": "python",
   "nbconvert_exporter": "python",
   "pygments_lexer": "ipython2",
   "version": "2.7.6"
  }
 },
 "nbformat": 4,
 "nbformat_minor": 0
}