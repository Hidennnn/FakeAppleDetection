{
 "cells": [
  {
   "cell_type": "code",
   "execution_count": null,
   "metadata": {
    "collapsed": true,
    "pycharm": {
     "name": "#%%\n",
     "is_executing": true
    }
   },
   "outputs": [],
   "source": [
    "import os\n",
    "\n",
    "import cv2\n",
    "import matplotlib.pyplot as plt\n",
    "from scipy.ndimage import zoom\n",
    "from tensorflow.keras.applications.resnet50 import preprocess_input\n",
    "from tensorflow.keras.models import load_model\n",
    "from tensorflow.keras.models import Model\n",
    "import numpy as np"
   ]
  },
  {
   "cell_type": "code",
   "execution_count": 3,
   "outputs": [],
   "source": [
    "model = load_model(\"resnet50_2layers.h5\")"
   ],
   "metadata": {
    "collapsed": false,
    "pycharm": {
     "name": "#%%\n"
    }
   }
  },
  {
   "cell_type": "code",
   "execution_count": 9,
   "outputs": [],
   "source": [
    "conv_output = model.get_layer(\"conv5_block3_out\").output\n",
    "pred_ouptut = model.get_layer(\"dense\").output\n",
    "model = Model(model.input, outputs=[conv_output, pred_ouptut])"
   ],
   "metadata": {
    "collapsed": false,
    "pycharm": {
     "name": "#%%\n"
    }
   }
  },
  {
   "cell_type": "code",
   "execution_count": null,
   "outputs": [],
   "source": [
    "for file in os.listdir(r\"owoce\\fake photos - bluewillow\"):\n",
    "    img = cv2.resize(cv2.imread(r\"owoce\\fake photos - bluewillow\\\\\"+file), (192, 192))\n",
    "    X = np.expand_dims(img, axis=0).astype(np.float32)\n",
    "    X = preprocess_input(X)\n",
    "    conv, pred = model.predict(X)\n",
    "\n",
    "    target = np.argmax(pred, axis=1).squeeze()\n",
    "    w, b = model.get_layer(\"dense\").weights\n",
    "    weights = w[:, target].numpy()\n",
    "    heatmap = conv.squeeze() @ weights\n",
    "\n",
    "    scale = 224 / 7\n",
    "    plt.figure(figsize=(12, 12))\n",
    "    plt.imshow(img)\n",
    "    plt.imshow(zoom(heatmap, zoom=(scale, scale)), cmap=\"jet\", alpha=0.5)\n",
    "    plt.savefig(r\"heatmap\\\\\"+file)"
   ],
   "metadata": {
    "collapsed": false,
    "pycharm": {
     "name": "#%%\n",
     "is_executing": true
    }
   }
  },
  {
   "cell_type": "code",
   "execution_count": null,
   "outputs": [],
   "source": [],
   "metadata": {
    "collapsed": false,
    "pycharm": {
     "name": "#%%\n"
    }
   }
  }
 ],
 "metadata": {
  "kernelspec": {
   "display_name": "Python 3",
   "language": "python",
   "name": "python3"
  },
  "language_info": {
   "codemirror_mode": {
    "name": "ipython",
    "version": 2
   },
   "file_extension": ".py",
   "mimetype": "text/x-python",
   "name": "python",
   "nbconvert_exporter": "python",
   "pygments_lexer": "ipython2",
   "version": "2.7.6"
  }
 },
 "nbformat": 4,
 "nbformat_minor": 0
}