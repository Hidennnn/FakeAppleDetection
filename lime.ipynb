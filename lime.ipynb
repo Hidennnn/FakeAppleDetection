{
 "cells": [
  {
   "cell_type": "code",
   "execution_count": 3,
   "outputs": [],
   "source": [
    "import os\n",
    "\n",
    "from lime import lime_image\n",
    "import matplotlib.pyplot as plt\n",
    "import cv2\n",
    "from tensorflow.keras.models import load_model\n",
    "from tensorflow.keras.applications.resnet50 import preprocess_input\n",
    "import numpy as np"
   ],
   "metadata": {
    "collapsed": false,
    "pycharm": {
     "name": "#%%\n"
    }
   }
  },
  {
   "cell_type": "code",
   "execution_count": 2,
   "outputs": [],
   "source": [
    "model = load_model(r\"resnet50_2layers.h5\")"
   ],
   "metadata": {
    "collapsed": false,
    "pycharm": {
     "name": "#%%\n"
    }
   }
  },
  {
   "cell_type": "code",
   "execution_count": 11,
   "outputs": [],
   "source": [
    "def do_explain_heatmap(image_path, save_path, model):\n",
    "    image = cv2.resize(cv2.imread(image_path), (192, 192))\n",
    "    image = np.array([preprocess_input(image)])\n",
    "    explainer = lime_image.LimeImageExplainer()\n",
    "    explanation = explainer.explain_instance(image[0].astype(\"double\"), model.predict, top_labels=1, hide_color=0, num_samples=1000)\n",
    "    ind = explanation.top_labels[0]\n",
    "    dict_heatmap = dict(explanation.local_exp[ind])\n",
    "    heatmap = np.vectorize(dict_heatmap.get)(explanation.segments)\n",
    "    plt.imshow(heatmap, cmap=\"RdBu\", vmin=-heatmap.max(), vmax=heatmap.max())\n",
    "    plt.colorbar()\n",
    "    plt.savefig(save_path)"
   ],
   "metadata": {
    "collapsed": false,
    "pycharm": {
     "name": "#%%\n"
    }
   }
  },
  {
   "cell_type": "code",
   "execution_count": 9,
   "outputs": [],
   "source": [
    "PATH_TO_INPUT = r\"C:\\Users\\PC\\OneDrive\\Pulpit\\baza danych\\to_generate\"\n",
    "PATH_TO_OUTPUT = r\"C:\\Users\\PC\\OneDrive\\Pulpit\\baza danych\\lime\""
   ],
   "metadata": {
    "collapsed": false,
    "pycharm": {
     "name": "#%%\n"
    }
   }
  },
  {
   "cell_type": "code",
   "execution_count": 5,
   "outputs": [],
   "source": [
    "for folder in os.listdir(PATH_TO_INPUT):\n",
    "    os.makedirs(PATH_TO_OUTPUT+\"\\\\lime_heatmap\\\\\"+folder)\n",
    "    for file in os.listdir(PATH_TO_INPUT+\"\\\\lime_heatmap\\\\\"+folder):\n",
    "        do_explain_heatmap(PATH_TO_INPUT+\"\\\\lime_heatmap\\\\\"+folder+\"\\\\\"+file, PATH_TO_OUTPUT, model)"
   ],
   "metadata": {
    "collapsed": false,
    "pycharm": {
     "name": "#%%\n"
    }
   }
  },
  {
   "cell_type": "code",
   "execution_count": 17,
   "outputs": [],
   "source": [
    "def do_explain_lime(image_path, save_path, model):\n",
    "    image = cv2.resize(cv2.imread(image_path), (192, 192))\n",
    "    image = preprocess_input(image)\n",
    "    explainer = lime_image.LimeImageExplainer()\n",
    "    explanation = explainer.explain_instance(image, model, top_labels=1)\n",
    "    _, saliency_map = explanation.get_image_and_mask(0)\n",
    "    plt.imshow(saliency_map)\n",
    "    plt.show()\n",
    "    plt.savefig(save_path)"
   ],
   "metadata": {
    "collapsed": false,
    "pycharm": {
     "name": "#%%\n"
    }
   }
  },
  {
   "cell_type": "code",
   "execution_count": null,
   "outputs": [],
   "source": [
    "for folder in os.listdir(PATH_TO_INPUT):\n",
    "    os.makedirs(PATH_TO_OUTPUT+\"\\\\lime\\\\\"+folder)\n",
    "    for file in os.listdir(PATH_TO_INPUT+\"\\\\lime\\\\\"+folder):\n",
    "        do_explain_lime(PATH_TO_INPUT+\"\\\\lime\\\\\"+folder+\"\\\\\"+file, PATH_TO_OUTPUT, model)"
   ],
   "metadata": {
    "collapsed": false,
    "pycharm": {
     "name": "#%%\n",
     "is_executing": true
    }
   }
  },
  {
   "cell_type": "code",
   "execution_count": null,
   "outputs": [],
   "source": [],
   "metadata": {
    "collapsed": false,
    "pycharm": {
     "name": "#%%\n"
    }
   }
  }
 ],
 "metadata": {
  "kernelspec": {
   "display_name": "Python 3",
   "language": "python",
   "name": "python3"
  },
  "language_info": {
   "codemirror_mode": {
    "name": "ipython",
    "version": 2
   },
   "file_extension": ".py",
   "mimetype": "text/x-python",
   "name": "python",
   "nbconvert_exporter": "python",
   "pygments_lexer": "ipython2",
   "version": "2.7.6"
  }
 },
 "nbformat": 4,
 "nbformat_minor": 0
}