{
 "cells": [
  {
   "cell_type": "code",
   "execution_count": 42,
   "outputs": [],
   "source": [
    "import os\n",
    "\n",
    "import tensorflow as tf\n",
    "from tensorflow.keras.models import load_model\n",
    "from tensorflow.keras.applications.resnet50 import preprocess_input\n",
    "import cv2\n",
    "import innvestigate\n",
    "import numpy as np\n",
    "import matplotlib.pyplot as plt\n",
    "tf.compat.v1.disable_eager_execution()"
   ],
   "metadata": {
    "collapsed": false,
    "pycharm": {
     "name": "#%%\n"
    }
   }
  },
  {
   "cell_type": "code",
   "execution_count": 38,
   "outputs": [],
   "source": [
    "model = load_model(\"resnet50_2layers.h5\")\n",
    "model.layers[-3]._name = \"dense_after_conv\"\n",
    "model.layers[-2]._name = \"dense_mid\"\n",
    "model.layers[-1]._name = \"output\"\n",
    "model = innvestigate.model_wo_output_activation(model)"
   ],
   "metadata": {
    "collapsed": false,
    "pycharm": {
     "name": "#%%\n"
    }
   }
  },
  {
   "cell_type": "code",
   "execution_count": 39,
   "outputs": [],
   "source": [
    "def do_innvestigate(analyzer_name, model, input_image, path_to_save, cmap=\"seismic\", parameters=None):\n",
    "    analyzer = innvestigate.create_analyzer(analyzer_name, model, **parameters if parameters else {})\n",
    "    image = cv2.resize(cv2.imread(input_image), (192, 192))\n",
    "    x = preprocess_input(np.array([image]))\n",
    "    a = analyzer.analyze(x)\n",
    "    a = a.sum(axis=np.argmax(np.asarray(a.shape) == 3))\n",
    "    a /= np.max(np.abs(a))\n",
    "    plt.imshow(a[0], cmap=cmap, clim=(-1, 1))\n",
    "    plt.savefig(path_to_save)"
   ],
   "metadata": {
    "collapsed": false,
    "pycharm": {
     "name": "#%%\n"
    }
   }
  },
  {
   "cell_type": "code",
   "execution_count": 40,
   "outputs": [],
   "source": [
    "PATH_TO_INPUT = r\"C:\\Users\\PC\\OneDrive\\Pulpit\\baza danych\\to_generate\"\n",
    "PATH_TO_OUTPUT = r\"C:\\Users\\PC\\OneDrive\\Pulpit\\baza danych\\innvestigate\""
   ],
   "metadata": {
    "collapsed": false,
    "pycharm": {
     "name": "#%%\n"
    }
   }
  },
  {
   "cell_type": "code",
   "execution_count": null,
   "outputs": [],
   "source": [
    "for folder in os.listdir(PATH_TO_INPUT):\n",
    "    os.makedirs(PATH_TO_OUTPUT + \"\\deconvnet_\"+folder)\n",
    "    for file in os.listdir(PATH_TO_INPUT+\"\\\\\"+folder):\n",
    "        do_innvestigate(\"deconvnet\", model, PATH_TO_INPUT+\"\\\\\"+folder+\"\\\\\"+file, PATH_TO_OUTPUT+\"\\deconvnet_\"+folder+\"\\\\\"+file, cmap=\"gray\")"
   ],
   "metadata": {
    "collapsed": false,
    "pycharm": {
     "name": "#%%\n",
     "is_executing": true
    }
   }
  },
  {
   "cell_type": "code",
   "execution_count": null,
   "outputs": [],
   "source": [
    "for folder in os.listdir(PATH_TO_INPUT):\n",
    "    os.makedirs(PATH_TO_OUTPUT + \"\\guided_backprop_\"+folder)\n",
    "    for file in os.listdir(PATH_TO_INPUT+\"\\\\\"+folder):\n",
    "        do_innvestigate(\"guided_backprop\", model, PATH_TO_INPUT+\"\\\\\"+folder+\"\\\\\"+file, PATH_TO_OUTPUT+\"\\guided_backprop_\"+folder+\"\\\\\"+file, cmap=\"gray\")"
   ],
   "metadata": {
    "collapsed": false,
    "pycharm": {
     "name": "#%%\n",
     "is_executing": true
    }
   }
  },
  {
   "cell_type": "code",
   "execution_count": null,
   "outputs": [],
   "source": [
    "for folder in os.listdir(PATH_TO_INPUT):\n",
    "    os.makedirs(PATH_TO_OUTPUT + \"\\input_t_gradient_\"+folder)\n",
    "    for file in os.listdir(PATH_TO_INPUT+\"\\\\\"+folder):\n",
    "        do_innvestigate(\"input_t_gradient\", model, PATH_TO_INPUT+\"\\\\\"+folder+\"\\\\\"+file, PATH_TO_OUTPUT+\"\\input_t_gradient_\"+folder+\"\\\\\"+file)"
   ],
   "metadata": {
    "collapsed": false,
    "pycharm": {
     "name": "#%%\n",
     "is_executing": true
    }
   }
  },
  {
   "cell_type": "code",
   "execution_count": null,
   "outputs": [],
   "source": [
    "for folder in os.listdir(PATH_TO_INPUT):\n",
    "    os.makedirs(PATH_TO_OUTPUT + \"\\lrp.z_\"+folder)\n",
    "    for file in os.listdir(PATH_TO_INPUT+\"\\\\\"+folder):\n",
    "        do_innvestigate(\"lrp.z\", model, PATH_TO_INPUT+\"\\\\\"+folder+\"\\\\\"+file, PATH_TO_OUTPUT+\"\\lrp.z_\"+folder+\"\\\\\"+file)"
   ],
   "metadata": {
    "collapsed": false,
    "pycharm": {
     "name": "#%%\n",
     "is_executing": true
    }
   }
  },
  {
   "cell_type": "code",
   "execution_count": null,
   "outputs": [],
   "source": [
    "for folder in os.listdir(PATH_TO_INPUT):\n",
    "    os.makedirs(PATH_TO_OUTPUT + \"\\smoothgrad_\"+folder)\n",
    "    for file in os.listdir(PATH_TO_INPUT+\"\\\\\"+folder):\n",
    "        do_innvestigate(\"smoothgrad\", model, PATH_TO_INPUT+\"\\\\\"+folder+\"\\\\\"+file, PATH_TO_OUTPUT+\"\\smoothgrad_\"+folder+\"\\\\\"+file, parameters={\"augment_by_n\": 64, \"noise_scale\": (128 - -128) * 0.1, \"postprocess\": \"square\"})"
   ],
   "metadata": {
    "collapsed": false,
    "pycharm": {
     "name": "#%%\n",
     "is_executing": true
    }
   }
  },
  {
   "cell_type": "code",
   "execution_count": null,
   "outputs": [],
   "source": [
    "for folder in os.listdir(PATH_TO_INPUT):\n",
    "    os.makedirs(PATH_TO_OUTPUT + \"\\gradient_\"+folder)\n",
    "    for file in os.listdir(PATH_TO_INPUT+\"\\\\\"+folder):\n",
    "        do_innvestigate(\"gradient\", model, PATH_TO_INPUT+\"\\\\\"+folder+\"\\\\\"+file, PATH_TO_OUTPUT+\"\\gradient_\"+folder+\"\\\\\"+file, parameters={\"postprocess\": \"abs\"})"
   ],
   "metadata": {
    "collapsed": false,
    "pycharm": {
     "name": "#%%\n",
     "is_executing": true
    }
   }
  },
  {
   "cell_type": "code",
   "execution_count": null,
   "outputs": [],
   "source": [],
   "metadata": {
    "collapsed": false,
    "pycharm": {
     "name": "#%%\n"
    }
   }
  }
 ],
 "metadata": {
  "kernelspec": {
   "display_name": "Python 3",
   "language": "python",
   "name": "python3"
  },
  "language_info": {
   "codemirror_mode": {
    "name": "ipython",
    "version": 2
   },
   "file_extension": ".py",
   "mimetype": "text/x-python",
   "name": "python",
   "nbconvert_exporter": "python",
   "pygments_lexer": "ipython2",
   "version": "2.7.6"
  }
 },
 "nbformat": 4,
 "nbformat_minor": 0
}