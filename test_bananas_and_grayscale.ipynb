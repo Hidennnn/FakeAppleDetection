{
 "cells": [
  {
   "cell_type": "code",
   "execution_count": 1,
   "outputs": [],
   "source": [
    "import os\n",
    "import random\n",
    "\n",
    "from tensorflow.keras.models import load_model\n",
    "import matplotlib.pyplot as plt\n",
    "import seaborn as sns\n",
    "import numpy as np\n",
    "from sklearn.metrics import confusion_matrix, classification_report, roc_auc_score\n",
    "\n",
    "from data_generator import DataGenerator"
   ],
   "metadata": {
    "collapsed": false,
    "pycharm": {
     "name": "#%%\n"
    }
   }
  },
  {
   "cell_type": "code",
   "execution_count": 6,
   "outputs": [],
   "source": [
    "labels = dict()\n",
    "\n",
    "bananas = []\n",
    "for file in os.listdir(r\"owoce\\banana_false\"):\n",
    "    bananas.append(r\"owoce\\banana_false\\\\\" + file)\n",
    "    labels[r\"owoce\\banana_false\\\\\"+file] = 0\n",
    "\n",
    "for file in os.listdir(r\"owoce\\banana_true\"):\n",
    "    bananas.append(r\"owoce\\banana_true\\\\\" + file)\n",
    "    labels[r\"owoce\\banana_true\\\\\"+file] = 1"
   ],
   "metadata": {
    "collapsed": false,
    "pycharm": {
     "name": "#%%\n"
    }
   }
  },
  {
   "cell_type": "code",
   "execution_count": 3,
   "outputs": [],
   "source": [
    "model = load_model(\"resnet50_2layers.h5\")"
   ],
   "metadata": {
    "collapsed": false,
    "pycharm": {
     "name": "#%%\n"
    }
   }
  },
  {
   "cell_type": "code",
   "execution_count": 7,
   "outputs": [],
   "source": [
    "test_generator = DataGenerator(bananas, labels)"
   ],
   "metadata": {
    "collapsed": false,
    "pycharm": {
     "name": "#%%\n"
    }
   }
  },
  {
   "cell_type": "code",
   "execution_count": 9,
   "outputs": [],
   "source": [
    "def do_and_summarize_test(model, test_generator):\n",
    "    # data preparation\n",
    "    data = []\n",
    "    labels = []\n",
    "    max_iter = 100\n",
    "    i = 0\n",
    "    for d, l in test_generator:\n",
    "        data.append(d)\n",
    "        labels.append(l)\n",
    "        i += 1\n",
    "        if i == max_iter:\n",
    "            break\n",
    "\n",
    "    data = np.array(data)\n",
    "    data = np.reshape(data, (data.shape[0] * data.shape[1],) + data.shape[2:])\n",
    "\n",
    "    labels = np.array(labels)\n",
    "    labels = np.reshape(labels, (labels.shape[0] * labels.shape[1],) + labels.shape[2:])\n",
    "    number_of_cases = labels.shape[0]\n",
    "    labels = np.reshape(labels, (number_of_cases, 1))\n",
    "\n",
    "    # accuracy, precision, recall and auc\n",
    "    score = model.evaluate(data, labels, verbose=0)\n",
    "    print(\"Test Accuracy:\", score[1])\n",
    "\n",
    "    y_pred = model.predict(data)\n",
    "    for x in range(number_of_cases):\n",
    "        if y_pred[x][0] < 0.5:\n",
    "            y_pred[x][0] = 0\n",
    "        else:\n",
    "            y_pred[x][0] = 1\n",
    "    y_pred_labels = y_pred\n",
    "    y_test_labels = labels.astype(\"float32\")\n",
    "    print(\"Classification Report:\")\n",
    "    print(classification_report(y_test_labels, y_pred_labels))\n",
    "\n",
    "    try:\n",
    "        auc = roc_auc_score(y_test_labels, y_pred)\n",
    "        print(\"AUC:\", auc)\n",
    "    except ValueError:\n",
    "        pass\n",
    "\n",
    "    # confusion matrix\n",
    "    cm = confusion_matrix(y_test_labels, y_pred_labels)\n",
    "    plt.figure(figsize=(10, 8))\n",
    "    sns.heatmap(cm, annot=True, fmt=\"d\", cmap=\"Blues\", cbar=False)\n",
    "    plt.title(\"Confusion Matrix\")\n",
    "    plt.xlabel(\"Predicted Labels\")\n",
    "    plt.ylabel(\"True Labels\")\n",
    "    plt.show()"
   ],
   "metadata": {
    "collapsed": false,
    "pycharm": {
     "name": "#%%\n"
    }
   }
  },
  {
   "cell_type": "code",
   "execution_count": null,
   "outputs": [],
   "source": [
    "do_and_summarize_test(model, test_generator)"
   ],
   "metadata": {
    "collapsed": false,
    "pycharm": {
     "name": "#%%\n",
     "is_executing": true
    }
   }
  },
  {
   "cell_type": "markdown",
   "source": [
    "----------------------- grayscale -----------------------"
   ],
   "metadata": {
    "collapsed": false,
    "pycharm": {
     "name": "#%% md\n"
    }
   }
  },
  {
   "cell_type": "code",
   "execution_count": null,
   "outputs": [],
   "source": [
    "labels = dict()\n",
    "file_names_diffusion14 = []\n",
    "for file in os.listdir(r\"owoce\\apple_diffusion_1_4_gray\"):\n",
    "    file_names_diffusion14.append(r\"owoce\\apple_diffusion_1_4_gray\\\\\" + file)\n",
    "    labels[r\"owoce\\apple_diffusion_1_4_gray\\\\\"+file] = 0\n",
    "\n",
    "file_names_diffusion15 = []\n",
    "for file in os.listdir(r\"owoce\\apple_diffusion_1_5_gray\"):\n",
    "    file_names_diffusion15.append(r\"owoce\\apple_diffusion_1_5_gray\\\\\" + file)\n",
    "    labels[r\"owoce\\apple_diffusion_1_5_gray\\\\\"+file] = 0\n",
    "\n",
    "file_names_diffusion21 = []\n",
    "for file in os.listdir(r\"owoce\\apple_diffusion_2_1_gray\"):\n",
    "    file_names_diffusion21.append(r\"owoce\\apple_diffusion_2_1_gray\\\\\" + file)\n",
    "    labels[r\"owoce\\apple_diffusion_2_1_gray\\\\\"+file] = 0\n",
    "\n",
    "file_names_realistic14 = []\n",
    "for file in os.listdir(r\"owoce\\apple_realistic_1_4_gray\"):\n",
    "    file_names_realistic14.append(r\"owoce\\apple_realistic_1_4_gray\\\\\" + file)\n",
    "    labels[r\"owoce\\apple_realistic_1_4_gray\\\\\"+file] = 0\n",
    "\n",
    "file_names_apple_detection = []\n",
    "for file in os.listdir(r\"owoce\\Apple Detection.v1i.coco\\train_gray\"):\n",
    "    file_names_apple_detection.append(r\"owoce\\Apple Detection.v1i.coco\\train_gray\\\\\" + file)\n",
    "    labels[r\"owoce\\Apple Detection.v1i.coco\\train_gray\\\\\"+file] = 1\n",
    "\n",
    "file_names_fruitnet = []\n",
    "for file in os.listdir(r\"owoce\\Apple_Good_gray\"):\n",
    "    file_names_fruitnet.append(r\"owoce\\Apple_Good_gray\\\\\" + file)\n",
    "    labels[r\"owoce\\Apple_Good_gray\\\\\"+file] = 1\n",
    "\n",
    "file_names_net = []\n",
    "for file in os.listdir(r\"owoce\\net_gray\"):\n",
    "    file_names_net.append(r\"owoce\\net_gray\\\\\"+file)\n",
    "    labels[r\"owoce\\net_gray\\\\\"+file] = 1\n",
    "\n",
    "file_names_dalle = []\n",
    "for file in os.listdir(r\"owoce\\dalle_gray\"):\n",
    "    file_names_dalle.append(r\"owoce\\dalle_gray\\\\\"+file)\n",
    "    labels[r\"owoce\\dalle_gray\\\\\"+file] = 0\n",
    "\n",
    "file_names_firefly = []\n",
    "for file in os.listdir(r\"owoce\\fake photos - firefly_gray\"):\n",
    "    file_names_firefly.append(r\"owoce\\fake photos - firefly_gray\\\\\"+file)\n",
    "    labels[r\"owoce\\fake photos - firefly_gray\\\\\"+file] = 0\n",
    "\n",
    "file_names_by_phone = []\n",
    "for file in os.listdir(r\"owoce\\real photos_gray\"):\n",
    "    file_names_by_phone.append(r\"owoce\\real photos_gray\\\\\" + file)\n",
    "    labels[r\"owoce\\real photos_gray\\\\\"+file] = 1\n",
    "\n",
    "file_names_real_with_custom_background = []\n",
    "for file in os.listdir(r\"owoce\\real apples_gray\"):\n",
    "    file_names_real_with_custom_background.append(r\"owoce\\real apples_gray\\\\\" + file)\n",
    "    labels[r\"owoce\\real apples_gray\\\\\"+file] = 1\n",
    "\n",
    "file_names_fake_with_custom_background = []\n",
    "for file in os.listdir(r\"owoce\\fake apples_gray\"):\n",
    "    file_names_fake_with_custom_background.append(r\"owoce\\fake apples_gray\\\\\" + file)\n",
    "    labels[r\"owoce\\fake apples_gray\\\\\"+file] = 0"
   ],
   "metadata": {
    "collapsed": false,
    "pycharm": {
     "name": "#%%\n"
    }
   }
  },
  {
   "cell_type": "code",
   "execution_count": null,
   "outputs": [],
   "source": [
    "random.seed(1234)\n",
    "\n",
    "partition = {\n",
    "    \"test\": []\n",
    "}\n",
    "\n",
    "random.shuffle(file_names_diffusion14)\n",
    "partition[\"test\"] += file_names_diffusion14[(int(0.6 * len(file_names_diffusion14))):]\n",
    "\n",
    "random.shuffle(file_names_diffusion15)\n",
    "partition[\"test\"] += file_names_diffusion15[(int(0.6 * len(file_names_diffusion15))):]\n",
    "\n",
    "random.shuffle(file_names_diffusion21)\n",
    "partition[\"test\"] += file_names_diffusion21[(int(0.6 * len(file_names_diffusion21))):]\n",
    "\n",
    "random.shuffle(file_names_realistic14)\n",
    "partition[\"test\"] += file_names_realistic14[(int(0.6 * len(file_names_realistic14))):]\n",
    "\n",
    "random.shuffle(file_names_apple_detection)\n",
    "partition[\"test\"] += file_names_apple_detection[(int(0.6 * len(file_names_apple_detection))):]\n",
    "\n",
    "random.shuffle(file_names_fruitnet)\n",
    "partition[\"test\"] += file_names_fruitnet[(int(0.6 * len(file_names_fruitnet))):]\n",
    "\n",
    "random.shuffle(file_names_net)\n",
    "partition[\"test\"] += file_names_net[(int(0.6*len(file_names_net))):]\n",
    "\n",
    "random.shuffle(file_names_dalle)\n",
    "partition[\"test\"] += file_names_dalle[(int(0.6*len(file_names_dalle))):]\n",
    "\n",
    "random.shuffle(file_names_firefly)\n",
    "partition[\"test\"] += file_names_firefly[(int(0.6*len(file_names_firefly))):]\n",
    "\n",
    "random.shuffle(file_names_by_phone)\n",
    "partition[\"test\"] += file_names_by_phone[(int(0.6 * len(file_names_by_phone))):]"
   ],
   "metadata": {
    "collapsed": false,
    "pycharm": {
     "name": "#%%\n"
    }
   }
  },
  {
   "cell_type": "code",
   "execution_count": null,
   "outputs": [],
   "source": [
    "test_generator = DataGenerator(partition[\"test\"], labels, batch_size=32)"
   ],
   "metadata": {
    "collapsed": false,
    "pycharm": {
     "name": "#%%\n"
    }
   }
  },
  {
   "cell_type": "code",
   "execution_count": null,
   "outputs": [],
   "source": [
    "do_and_summarize_test(model, test_generator)"
   ],
   "metadata": {
    "collapsed": false,
    "pycharm": {
     "name": "#%%\n"
    }
   }
  }
 ],
 "metadata": {
  "kernelspec": {
   "display_name": "Python 3",
   "language": "python",
   "name": "python3"
  },
  "language_info": {
   "codemirror_mode": {
    "name": "ipython",
    "version": 2
   },
   "file_extension": ".py",
   "mimetype": "text/x-python",
   "name": "python",
   "nbconvert_exporter": "python",
   "pygments_lexer": "ipython2",
   "version": "2.7.6"
  }
 },
 "nbformat": 4,
 "nbformat_minor": 0
}